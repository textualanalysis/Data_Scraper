from newspaper import Article
from googlesearch import search
import pandas as pd
from datetime import datetime

import scraping_CBC as f1
import scraping_OBJ as f2
import scraping_Globalnews as f3
import scraping_ottawacitizen as f4
import scraping_torontosun as f5
import scraping_nationalpost as f6
import scraping_ottawamatters as f7

record= []
sincedate='06/01/2020'
untildate='06/30/2020'
query = 'ottawa AND ((oc AND transpo) OR LRT OR otrain OR o-train)'

for url in search (query,  tld='ca', tbs='cdr:1,cd_min:'+sincedate+',cd_max:'+untildate, lang='en',tpe="nws", num=20, start=0, stop=50):
    
    try:
            a = Article(url, language='en')
            download = a.download()
            parse = a.parse()
            title = a.title
            text = a.text
            date = a.publish_date

            if  text is None :  
                    continue
            
            elif date is None :
                
                if  'https://www.cbc.ca/news' in url:
                    publish_date=f1.publish_date(url)
                    record.append((text,publish_date,title,url))


                elif 'https://www.obj.ca/article/' in url:

                    publish_date=f2.publish_date(url)
                    record.append((text,publish_date,title,url))


                elif 'https://globalnews.ca/' in url:
                    publish_date=f3.publish_date(url)
                    
                    if 'Send this page' in text :
                        text=f3.article(url)
                        record.append((text,publish_date,title,url))
    
                elif 'https://ottawacitizen.com/' in url:
                    publish_date=f4.publish_date(url) 
                    
                    if 'Article content' in text :
                        text=f4.article(url)
                        record.append((text,publish_date,title,url))
        
                elif 'https://torontosun.com/' in url:

                    publish_date=f5.publish_date(url)
                    record.append((text,publish_date,title,url))


                elif 'https://nationalpost.com/' in url:

                    publish_date=f6.publish_date(url)
                    record.append((text,publish_date,title,url))

                elif 'https://ottawamatters.com/' in url:

                    publish_date=f7.publish_date(url)
                    record.append((text,publish_date,title,url))

                else:    
                    continue
            

            else : 
                publish_date = date.strftime("%m/%d/%Y")
                record.append((text, publish_date,title,url))

    except:
        pass 
    
    df = pd.DataFrame(record, columns=['Article','Date', 'Heading','NewsType']) 
    df
