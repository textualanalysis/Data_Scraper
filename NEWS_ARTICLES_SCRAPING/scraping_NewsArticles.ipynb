{
 "cells": [
  {
   "cell_type": "code",
   "execution_count": 4,
   "id": "62113559",
   "metadata": {},
   "outputs": [
    {
     "name": "stdout",
     "output_type": "stream",
     "text": [
      "Requirement already satisfied: google in c:\\users\\sbarou\\anaconda3\\lib\\site-packages (3.0.0)\n",
      "Requirement already satisfied: beautifulsoup4 in c:\\users\\sbarou\\anaconda3\\lib\\site-packages (from google) (4.9.3)\n",
      "Requirement already satisfied: soupsieve>1.2 in c:\\users\\sbarou\\anaconda3\\lib\\site-packages (from beautifulsoup4->google) (2.2.1)\n",
      "Note: you may need to restart the kernel to use updated packages.\n"
     ]
    }
   ],
   "source": [
    "pip install google"
   ]
  },
  {
   "cell_type": "code",
   "execution_count": 7,
   "id": "de836d50",
   "metadata": {},
   "outputs": [
    {
     "name": "stdout",
     "output_type": "stream",
     "text": [
      "Requirement already satisfied: beautifulsoup4 in c:\\users\\sbarou\\anaconda3\\lib\\site-packages (4.9.3)\n",
      "Requirement already satisfied: soupsieve>1.2 in c:\\users\\sbarou\\anaconda3\\lib\\site-packages (from beautifulsoup4) (2.2.1)\n",
      "Note: you may need to restart the kernel to use updated packages.\n"
     ]
    }
   ],
   "source": [
    "pip install beautifulsoup4"
   ]
  },
  {
   "cell_type": "code",
   "execution_count": 8,
   "id": "6fbea148",
   "metadata": {},
   "outputs": [
    {
     "name": "stdout",
     "output_type": "stream",
     "text": [
      "Requirement already satisfied: googlesearch-python in c:\\users\\sbarou\\anaconda3\\lib\\site-packages (1.0.1)\n",
      "Requirement already satisfied: requests==2.25.1 in c:\\users\\sbarou\\anaconda3\\lib\\site-packages (from googlesearch-python) (2.25.1)\n",
      "Requirement already satisfied: beautifulsoup4==4.9.3 in c:\\users\\sbarou\\anaconda3\\lib\\site-packages (from googlesearch-python) (4.9.3)\n",
      "Requirement already satisfied: soupsieve>1.2 in c:\\users\\sbarou\\anaconda3\\lib\\site-packages (from beautifulsoup4==4.9.3->googlesearch-python) (2.2.1)\n",
      "Requirement already satisfied: certifi>=2017.4.17 in c:\\users\\sbarou\\anaconda3\\lib\\site-packages (from requests==2.25.1->googlesearch-python) (2020.12.5)\n",
      "Requirement already satisfied: idna<3,>=2.5 in c:\\users\\sbarou\\anaconda3\\lib\\site-packages (from requests==2.25.1->googlesearch-python) (2.10)\n",
      "Requirement already satisfied: urllib3<1.27,>=1.21.1 in c:\\users\\sbarou\\anaconda3\\lib\\site-packages (from requests==2.25.1->googlesearch-python) (1.26.4)\n",
      "Requirement already satisfied: chardet<5,>=3.0.2 in c:\\users\\sbarou\\anaconda3\\lib\\site-packages (from requests==2.25.1->googlesearch-python) (4.0.0)\n",
      "Note: you may need to restart the kernel to use updated packages.\n"
     ]
    }
   ],
   "source": [
    "pip install googlesearch-python"
   ]
  },
  {
   "cell_type": "code",
   "execution_count": 11,
   "id": "b6f02a50",
   "metadata": {},
   "outputs": [
    {
     "ename": "TypeError",
     "evalue": "search() got an unexpected keyword argument 'tld'",
     "output_type": "error",
     "traceback": [
      "\u001b[1;31m---------------------------------------------------------------------------\u001b[0m",
      "\u001b[1;31mTypeError\u001b[0m                                 Traceback (most recent call last)",
      "\u001b[1;32m<ipython-input-11-75e853c356e6>\u001b[0m in \u001b[0;36m<module>\u001b[1;34m\u001b[0m\n\u001b[0;32m     17\u001b[0m \u001b[0mquery\u001b[0m \u001b[1;33m=\u001b[0m \u001b[1;34m'ottawa AND ((oc AND transpo) OR LRT OR otrain OR o-train)'\u001b[0m\u001b[1;33m\u001b[0m\u001b[1;33m\u001b[0m\u001b[0m\n\u001b[0;32m     18\u001b[0m \u001b[1;33m\u001b[0m\u001b[0m\n\u001b[1;32m---> 19\u001b[1;33m \u001b[1;32mfor\u001b[0m \u001b[0murl\u001b[0m \u001b[1;32min\u001b[0m \u001b[0msearch\u001b[0m \u001b[1;33m(\u001b[0m\u001b[0mquery\u001b[0m\u001b[1;33m,\u001b[0m \u001b[0mtld\u001b[0m\u001b[1;33m=\u001b[0m\u001b[1;34m'ca'\u001b[0m\u001b[1;33m,\u001b[0m \u001b[0mtbs\u001b[0m\u001b[1;33m=\u001b[0m\u001b[1;34m'cdr:1,cd_min:'\u001b[0m\u001b[1;33m+\u001b[0m\u001b[0msincedate\u001b[0m\u001b[1;33m+\u001b[0m\u001b[1;34m',cd_max:'\u001b[0m\u001b[1;33m+\u001b[0m\u001b[0muntildate\u001b[0m\u001b[1;33m,\u001b[0m \u001b[0mlang\u001b[0m\u001b[1;33m=\u001b[0m\u001b[1;34m'en'\u001b[0m\u001b[1;33m,\u001b[0m \u001b[0mtpe\u001b[0m\u001b[1;33m=\u001b[0m \u001b[1;34m'nws'\u001b[0m\u001b[1;33m,\u001b[0m \u001b[0mnum\u001b[0m\u001b[1;33m=\u001b[0m\u001b[1;36m20\u001b[0m\u001b[1;33m,\u001b[0m \u001b[0mstart\u001b[0m\u001b[1;33m=\u001b[0m\u001b[1;36m0\u001b[0m\u001b[1;33m,\u001b[0m \u001b[0mstop\u001b[0m\u001b[1;33m=\u001b[0m\u001b[1;36m50\u001b[0m\u001b[1;33m)\u001b[0m\u001b[1;33m:\u001b[0m\u001b[1;33m\u001b[0m\u001b[1;33m\u001b[0m\u001b[0m\n\u001b[0m\u001b[0;32m     20\u001b[0m \u001b[1;33m\u001b[0m\u001b[0m\n\u001b[0;32m     21\u001b[0m     \u001b[1;32mtry\u001b[0m\u001b[1;33m:\u001b[0m\u001b[1;33m\u001b[0m\u001b[1;33m\u001b[0m\u001b[0m\n",
      "\u001b[1;31mTypeError\u001b[0m: search() got an unexpected keyword argument 'tld'"
     ]
    }
   ],
   "source": [
    "from newspaper import Article\n",
    "from googlesearch import search\n",
    "import pandas as pd\n",
    "from datetime import datetime\n",
    "\n",
    "import scraping_CBC as f1\n",
    "import scraping_OBJ as f2\n",
    "import scraping_Globalnews as f3\n",
    "import scraping_ottawacitizen as f4\n",
    "import scraping_torontosun as f5\n",
    "import scraping_nationalpost as f6\n",
    "import scraping_ottawamatters as f7\n",
    "\n",
    "record= []\n",
    "sincedate='06/01/2020'\n",
    "untildate='06/30/2020'\n",
    "query = 'ottawa AND ((oc AND transpo) OR LRT OR otrain OR o-train)'\n",
    "\n",
    "for url in search (query, tld='ca', tbs='cdr:1,cd_min:'+sincedate+',cd_max:'+untildate, lang='en', tpe= 'nws', num=20, start=0, stop=50):\n",
    "\n",
    "    try:\n",
    "            a = Article(url, language='en')\n",
    "            download = a.download()\n",
    "            parse = a.parse()\n",
    "            title = a.title\n",
    "            text = a.text\n",
    "            date = a.publish_date\n",
    "\n",
    "            if  text is None :  \n",
    "                    continue\n",
    "\n",
    "            elif date is None :\n",
    "\n",
    "                if  'https://www.cbc.ca/news' in url:\n",
    "                    publish_date=f1.publish_date(url)\n",
    "                    record.append((text,publish_date,title,url))\n",
    "\n",
    "\n",
    "                elif 'https://www.obj.ca/article/' in url:\n",
    "\n",
    "                    publish_date=f2.publish_date(url)\n",
    "                    record.append((text,publish_date,title,url))\n",
    "\n",
    "\n",
    "                elif 'https://globalnews.ca/' in url:\n",
    "                    publish_date=f3.publish_date(url)\n",
    "\n",
    "                    if 'Send this page' in text :\n",
    "                        text=f3.article(url)\n",
    "                        record.append((text,publish_date,title,url))\n",
    "\n",
    "                elif 'https://ottawacitizen.com/' in url:\n",
    "                    publish_date=f4.publish_date(url) \n",
    "\n",
    "                    if 'Article content' in text :\n",
    "                        text=f4.article(url)\n",
    "                        record.append((text,publish_date,title,url))\n",
    "\n",
    "                elif 'https://torontosun.com/' in url:\n",
    "\n",
    "                    publish_date=f5.publish_date(url)\n",
    "                    record.append((text,publish_date,title,url))\n",
    "\n",
    "\n",
    "                elif 'https://nationalpost.com/' in url:\n",
    "\n",
    "                    publish_date=f6.publish_date(url)\n",
    "                    record.append((text,publish_date,title,url))\n",
    "\n",
    "                elif 'https://ottawamatters.com/' in url:\n",
    "\n",
    "                    publish_date=f7.publish_date(url)\n",
    "                    record.append((text,publish_date,title,url))\n",
    "\n",
    "                else:    \n",
    "                    continue\n",
    "\n",
    "\n",
    "            else : \n",
    "                publish_date = date.strftime(\"%m/%d/%Y\")\n",
    "                record.append((text, publish_date,title,url))\n",
    "\n",
    "    except:\n",
    "        pass \n",
    "\n",
    "    df = pd.DataFrame(record, columns=['Article','Date', 'Heading','NewsType']) \n",
    "    df"
   ]
  },
  {
   "cell_type": "code",
   "execution_count": null,
   "id": "d1eb13f6",
   "metadata": {},
   "outputs": [],
   "source": []
  },
  {
   "cell_type": "code",
   "execution_count": null,
   "id": "ce8d654e",
   "metadata": {},
   "outputs": [],
   "source": []
  }
 ],
 "metadata": {
  "kernelspec": {
   "display_name": "Python 3",
   "language": "python",
   "name": "python3"
  },
  "language_info": {
   "codemirror_mode": {
    "name": "ipython",
    "version": 3
   },
   "file_extension": ".py",
   "mimetype": "text/x-python",
   "name": "python",
   "nbconvert_exporter": "python",
   "pygments_lexer": "ipython3",
   "version": "3.8.8"
  }
 },
 "nbformat": 4,
 "nbformat_minor": 5
}
